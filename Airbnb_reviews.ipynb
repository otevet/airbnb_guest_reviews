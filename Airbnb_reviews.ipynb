{
  "cells": [
    {
      "cell_type": "markdown",
      "source": [
        "# Predicting Airbnb Guest Experience from Past Guest Reviews"
      ],
      "metadata": {}
    },
    {
      "cell_type": "code",
      "source": [
        "#importing useful libraries\n",
        "import pandas as pd\n",
        "import numpy as np\n",
        "import seaborn as sns\n",
        "import matplotlib.pyplot as plt\n",
        "import sklearn\n",
        "\n",
        "import re\n",
        "import math\n",
        "\n",
        "import nltk\n",
        "from nltk.corpus import stopwords \n",
        "from nltk.stem import WordNetLemmatizer\n",
        "from gensim.models import word2vec\n",
        "from langdetect import detect\n",
        "\n",
        "from sklearn.cross_validation import train_test_split\n",
        "from sklearn.decomposition import PCA\n",
        "from sklearn.ensemble import GradientBoostingClassifier, RandomForestClassifier\n",
        "from sklearn.metrics import mean_absolute_error, r2_score, f1_score, accuracy_score, precision_score\n",
        "from sklearn.linear_model import LinearRegression\n",
        "from sklearn.cluster import KMeans\n",
        "from sklearn.model_selection import GridSearchCV\n",
        "\n",
        "from IPython.core.display import display, HTML\n",
        "from IPython.display import Image\n",
        "%config InlineBackend.figure_format = 'retina'\n",
        "plt.style.use('seaborn')\n",
        "%matplotlib inline\n",
        "\n",
        "import logging\n",
        "import warnings; warnings.simplefilter('ignore')"
      ],
      "outputs": [],
      "execution_count": 9,
      "metadata": {}
    },
    {
      "cell_type": "markdown",
      "source": [
        "**Import the reviews dataset**"
      ],
      "metadata": {}
    },
    {
      "cell_type": "code",
      "source": [
        "reviews = pd.read_csv('~/Desktop/Projects/Airbnb/reviews.csv', sep=',')"
      ],
      "outputs": [],
      "execution_count": 3,
      "metadata": {
        "inputHidden": false,
        "outputHidden": false
      }
    },
    {
      "cell_type": "code",
      "source": [
        "reviews.comments[0]"
      ],
      "outputs": [
        {
          "output_type": "execute_result",
          "execution_count": 4,
          "data": {
            "text/plain": [
              "'The room was just as described and everything clean and in place. There was even some tea and a nice welcome note upon my arrival. Little things like that make the difference. The location is great with easy bus lines to downtown. The Alamo park is a nice relaxing area and there are some good coffee shops in the around. Maryanna provided all the information I needed and regularly asked if there was anything else I could use to make my stay better. I recommend this stay for a great BnB experience in a unique Victorian-style home. '"
            ]
          },
          "metadata": {}
        }
      ],
      "execution_count": 4,
      "metadata": {}
    },
    {
      "cell_type": "markdown",
      "source": [
        "**Import to the listings data**"
      ],
      "metadata": {}
    },
    {
      "cell_type": "code",
      "source": [
        "listings = pd.read_csv('listings.csv', sep=',')"
      ],
      "outputs": [],
      "execution_count": 105,
      "metadata": {
        "collapsed": true
      }
    },
    {
      "cell_type": "markdown",
      "source": [
        "## Data Pre-Processing"
      ],
      "metadata": {
        "collapsed": false,
        "outputHidden": false,
        "inputHidden": false
      }
    },
    {
      "cell_type": "code",
      "source": [
        "listings = listings.rename(columns={'id': 'listing_id'})\n",
        "listings = listings[['listing_id', 'review_scores_rating', 'number_of_reviews']]\n",
        "listings = listings.drop(listings[listings.number_of_reviews < 5].index) #remove listings with less than 5 reviews\n",
        "listings = listings.dropna(how='any')\n",
        "listings = listings[['listing_id', 'review_scores_rating']]\n",
        "\nlistings.head()"
      ],
      "outputs": [
        {
          "output_type": "execute_result",
          "execution_count": 95,
          "data": {
            "text/plain": [
              "   listing_id  review_scores_rating\n",
              "0    16570521                  95.0\n",
              "4    15664146                  92.0\n",
              "5     1427660                  98.0\n",
              "6    19745324                  97.0\n",
              "8       69681                  92.0"
            ],
            "text/html": [
              "<div>\n",
              "<style>\n",
              "    .dataframe thead tr:only-child th {\n",
              "        text-align: right;\n",
              "    }\n",
              "\n",
              "    .dataframe thead th {\n",
              "        text-align: left;\n",
              "    }\n",
              "\n",
              "    .dataframe tbody tr th {\n",
              "        vertical-align: top;\n",
              "    }\n",
              "</style>\n",
              "<table border=\"1\" class=\"dataframe\">\n",
              "  <thead>\n",
              "    <tr style=\"text-align: right;\">\n",
              "      <th></th>\n",
              "      <th>listing_id</th>\n",
              "      <th>review_scores_rating</th>\n",
              "    </tr>\n",
              "  </thead>\n",
              "  <tbody>\n",
              "    <tr>\n",
              "      <th>0</th>\n",
              "      <td>16570521</td>\n",
              "      <td>95.0</td>\n",
              "    </tr>\n",
              "    <tr>\n",
              "      <th>4</th>\n",
              "      <td>15664146</td>\n",
              "      <td>92.0</td>\n",
              "    </tr>\n",
              "    <tr>\n",
              "      <th>5</th>\n",
              "      <td>1427660</td>\n",
              "      <td>98.0</td>\n",
              "    </tr>\n",
              "    <tr>\n",
              "      <th>6</th>\n",
              "      <td>19745324</td>\n",
              "      <td>97.0</td>\n",
              "    </tr>\n",
              "    <tr>\n",
              "      <th>8</th>\n",
              "      <td>69681</td>\n",
              "      <td>92.0</td>\n",
              "    </tr>\n",
              "  </tbody>\n",
              "</table>\n",
              "</div>"
            ]
          },
          "metadata": {}
        }
      ],
      "execution_count": 95,
      "metadata": {}
    },
    {
      "cell_type": "code",
      "source": [
        "listings.review_scores_rating.describe()"
      ],
      "outputs": [
        {
          "output_type": "execute_result",
          "execution_count": 104,
          "data": {
            "text/plain": [
              "count    5088.000000\n",
              "mean       95.114976\n",
              "std         4.855930\n",
              "min        60.000000\n",
              "25%        93.000000\n",
              "50%        96.000000\n",
              "75%        98.000000\n",
              "max       100.000000\n",
              "Name: review_scores_rating, dtype: float64"
            ]
          },
          "metadata": {}
        }
      ],
      "execution_count": 104,
      "metadata": {}
    },
    {
      "cell_type": "code",
      "source": [
        "sns.distplot(listings.review_scores_rating, bins=20, kde=False, rug=False, axlabel='Review Score Rating');"
      ],
      "outputs": [
        {
          "output_type": "display_data",
          "data": {
            "text/plain": [
              "<matplotlib.figure.Figure at 0x1a1b917be0>"
            ],
            "image/png": "[encoded data removed]"
          },
          "metadata": {
            "image/png": {
              "width": 490,
              "height": 343
            }
          }
        }
      ],
      "execution_count": 18,
      "metadata": {}
    },
    {
      "cell_type": "markdown",
      "source": [
        "We see that the majoritry "
      ],
      "metadata": {}
    },
    {
      "cell_type": "markdown",
      "source": [
        "**Merge the listings and reviews dataframes**"
      ],
      "metadata": {}
    },
    {
      "cell_type": "code",
      "source": [
        "df = pd.merge(listings, reviews)\n",
        "df = df[['listing_id', 'comments', 'review_scores_rating']]"
      ],
      "outputs": [],
      "execution_count": 19,
      "metadata": {
        "collapsed": true
      }
    },
    {
      "cell_type": "code",
      "source": [
        "df = df[df.comments.str.contains(\"The host canceled this reservation \") == False]\n",
        "df = df[df.comments.str.contains(\"The reservation was canceled \") == False]"
      ],
      "outputs": [],
      "execution_count": 20,
      "metadata": {
        "collapsed": true
      }
    },
    {
      "cell_type": "code",
      "source": [
        "df = df.dropna(how='any')"
      ],
      "outputs": [],
      "execution_count": 21,
      "metadata": {
        "collapsed": true
      }
    },
    {
      "cell_type": "code",
      "source": [
        "df.head()"
      ],
      "outputs": [
        {
          "output_type": "execute_result",
          "execution_count": 22,
          "data": {
            "text/plain": [
              "   listing_id                                           comments  \\\n",
              "0    16570521  Eugenia and Alessandro were incredibly warm an...   \n",
              "1    16570521  It was great staying at Eugenia's and Alessand...   \n",
              "2    16570521  Great place. Fantastic location. Hosts very he...   \n",
              "3    16570521  The place was great and comfortable in a very ...   \n",
              "4    16570521  Eugenia and Alessandro were very welcoming to ...   \n",
              "\n",
              "   review_scores_rating  \n",
              "0                  95.0  \n",
              "1                  95.0  \n",
              "2                  95.0  \n",
              "3                  95.0  \n",
              "4                  95.0  "
            ],
            "text/html": [
              "<div>\n",
              "<style>\n",
              "    .dataframe thead tr:only-child th {\n",
              "        text-align: right;\n",
              "    }\n",
              "\n",
              "    .dataframe thead th {\n",
              "        text-align: left;\n",
              "    }\n",
              "\n",
              "    .dataframe tbody tr th {\n",
              "        vertical-align: top;\n",
              "    }\n",
              "</style>\n",
              "<table border=\"1\" class=\"dataframe\">\n",
              "  <thead>\n",
              "    <tr style=\"text-align: right;\">\n",
              "      <th></th>\n",
              "      <th>listing_id</th>\n",
              "      <th>comments</th>\n",
              "      <th>review_scores_rating</th>\n",
              "    </tr>\n",
              "  </thead>\n",
              "  <tbody>\n",
              "    <tr>\n",
              "      <th>0</th>\n",
              "      <td>16570521</td>\n",
              "      <td>Eugenia and Alessandro were incredibly warm an...</td>\n",
              "      <td>95.0</td>\n",
              "    </tr>\n",
              "    <tr>\n",
              "      <th>1</th>\n",
              "      <td>16570521</td>\n",
              "      <td>It was great staying at Eugenia's and Alessand...</td>\n",
              "      <td>95.0</td>\n",
              "    </tr>\n",
              "    <tr>\n",
              "      <th>2</th>\n",
              "      <td>16570521</td>\n",
              "      <td>Great place. Fantastic location. Hosts very he...</td>\n",
              "      <td>95.0</td>\n",
              "    </tr>\n",
              "    <tr>\n",
              "      <th>3</th>\n",
              "      <td>16570521</td>\n",
              "      <td>The place was great and comfortable in a very ...</td>\n",
              "      <td>95.0</td>\n",
              "    </tr>\n",
              "    <tr>\n",
              "      <th>4</th>\n",
              "      <td>16570521</td>\n",
              "      <td>Eugenia and Alessandro were very welcoming to ...</td>\n",
              "      <td>95.0</td>\n",
              "    </tr>\n",
              "  </tbody>\n",
              "</table>\n",
              "</div>"
            ]
          },
          "metadata": {}
        }
      ],
      "execution_count": 22,
      "metadata": {}
    },
    {
      "cell_type": "code",
      "source": [
        "print('There are', df.shape[0], 'reviews in the dataset')"
      ],
      "outputs": [
        {
          "output_type": "stream",
          "name": "stdout",
          "text": [
            "There are 249603 reviews in the dataset\n"
          ]
        }
      ],
      "execution_count": 23,
      "metadata": {}
    },
    {
      "cell_type": "code",
      "source": [
        "df2 = df.head(100)"
      ],
      "outputs": [],
      "execution_count": 24,
      "metadata": {
        "collapsed": true
      }
    },
    {
      "cell_type": "markdown",
      "source": [
        "**Now that the dataset merged, we can start processing the text**"
      ],
      "metadata": {}
    },
    {
      "cell_type": "code",
      "source": [
        "#remove non-English comments"
      ],
      "outputs": [],
      "execution_count": 26,
      "metadata": {
        "collapsed": true
      }
    },
    {
      "cell_type": "code",
      "source": [
        "df = df[(df.comments.str.len() > 20)]"
      ],
      "outputs": [],
      "execution_count": 29,
      "metadata": {
        "collapsed": true
      }
    },
    {
      "cell_type": "code",
      "source": [
        "print('There are', df.shape[0], 'reviews in the dataset')"
      ],
      "outputs": [
        {
          "output_type": "stream",
          "name": "stdout",
          "text": [
            "There are 245853 reviews in the dataset\n"
          ]
        }
      ],
      "execution_count": 30,
      "metadata": {}
    },
    {
      "cell_type": "code",
      "source": [
        "def find_language(x):\n",
        "    try:\n",
        "        return detect(x)\n",
        "    except:\n",
        "        return 'error'"
      ],
      "outputs": [],
      "execution_count": 31,
      "metadata": {
        "collapsed": false,
        "outputHidden": false,
        "inputHidden": false
      }
    },
    {
      "cell_type": "code",
      "source": [
        "df['language'] = df['comments'].apply(lambda x:find_language(x))"
      ],
      "outputs": [],
      "execution_count": 32,
      "metadata": {
        "collapsed": false,
        "outputHidden": false,
        "inputHidden": false
      }
    },
    {
      "cell_type": "code",
      "source": [
        "df = df.drop(df[df.language != 'en'].index)"
      ],
      "outputs": [],
      "execution_count": 36,
      "metadata": {
        "collapsed": true
      }
    },
    {
      "cell_type": "code",
      "source": [
        "df.shape"
      ],
      "outputs": [
        {
          "output_type": "execute_result",
          "execution_count": 37,
          "data": {
            "text/plain": [
              "(232653, 4)"
            ]
          },
          "metadata": {}
        }
      ],
      "execution_count": 37,
      "metadata": {}
    },
    {
      "cell_type": "markdown",
      "source": [
        "Now we have only English reviews"
      ],
      "metadata": {}
    },
    {
      "cell_type": "code",
      "source": [
        "df = df.drop(['language'], axis =1)"
      ],
      "outputs": [],
      "execution_count": 38,
      "metadata": {
        "collapsed": true
      }
    },
    {
      "cell_type": "code",
      "source": [
        "df.head()"
      ],
      "outputs": [
        {
          "output_type": "execute_result",
          "execution_count": 39,
          "data": {
            "text/plain": [
              "   listing_id                                           comments  \\\n",
              "0    16570521  Eugenia and Alessandro were incredibly warm an...   \n",
              "1    16570521  It was great staying at Eugenia's and Alessand...   \n",
              "2    16570521  Great place. Fantastic location. Hosts very he...   \n",
              "3    16570521  The place was great and comfortable in a very ...   \n",
              "4    16570521  Eugenia and Alessandro were very welcoming to ...   \n",
              "\n",
              "   review_scores_rating  \n",
              "0                  95.0  \n",
              "1                  95.0  \n",
              "2                  95.0  \n",
              "3                  95.0  \n",
              "4                  95.0  "
            ],
            "text/html": [
              "<div>\n",
              "<style>\n",
              "    .dataframe thead tr:only-child th {\n",
              "        text-align: right;\n",
              "    }\n",
              "\n",
              "    .dataframe thead th {\n",
              "        text-align: left;\n",
              "    }\n",
              "\n",
              "    .dataframe tbody tr th {\n",
              "        vertical-align: top;\n",
              "    }\n",
              "</style>\n",
              "<table border=\"1\" class=\"dataframe\">\n",
              "  <thead>\n",
              "    <tr style=\"text-align: right;\">\n",
              "      <th></th>\n",
              "      <th>listing_id</th>\n",
              "      <th>comments</th>\n",
              "      <th>review_scores_rating</th>\n",
              "    </tr>\n",
              "  </thead>\n",
              "  <tbody>\n",
              "    <tr>\n",
              "      <th>0</th>\n",
              "      <td>16570521</td>\n",
              "      <td>Eugenia and Alessandro were incredibly warm an...</td>\n",
              "      <td>95.0</td>\n",
              "    </tr>\n",
              "    <tr>\n",
              "      <th>1</th>\n",
              "      <td>16570521</td>\n",
              "      <td>It was great staying at Eugenia's and Alessand...</td>\n",
              "      <td>95.0</td>\n",
              "    </tr>\n",
              "    <tr>\n",
              "      <th>2</th>\n",
              "      <td>16570521</td>\n",
              "      <td>Great place. Fantastic location. Hosts very he...</td>\n",
              "      <td>95.0</td>\n",
              "    </tr>\n",
              "    <tr>\n",
              "      <th>3</th>\n",
              "      <td>16570521</td>\n",
              "      <td>The place was great and comfortable in a very ...</td>\n",
              "      <td>95.0</td>\n",
              "    </tr>\n",
              "    <tr>\n",
              "      <th>4</th>\n",
              "      <td>16570521</td>\n",
              "      <td>Eugenia and Alessandro were very welcoming to ...</td>\n",
              "      <td>95.0</td>\n",
              "    </tr>\n",
              "  </tbody>\n",
              "</table>\n",
              "</div>"
            ]
          },
          "metadata": {}
        }
      ],
      "execution_count": 39,
      "metadata": {
        "collapsed": true
      }
    },
    {
      "cell_type": "code",
      "source": [
        "# Use regular expressions to find and replace\n",
        "def review_to_wordlist(x, remove_stopwords=True): #stop word as optional\n",
        "    x = str(x)\n",
        "    \n",
        "    wordnet_lemmatizer = WordNetLemmatizer()\n",
        "    x = re.sub(\"[^a-zA-Z]\", \" \", x) #letters only    \n",
        "    x = x.lower().split() #turn to lowercase and split into words\n",
        "\n",
        "    if remove_stopwords:\n",
        "        stops = set(stopwords.words(\"english\")) # set is faster than list\n",
        "        x = [wordnet_lemmatizer.lemmatize(word) for word in x if word not in stops]\n",
        "    return \" \".join(x)\n",
        "\ndf['comments'] = df['comments'].apply(review_to_wordlist)"
      ],
      "outputs": [],
      "execution_count": 42,
      "metadata": {
        "collapsed": true
      }
    },
    {
      "cell_type": "code",
      "source": [
        "sentences = df['comments'].tolist()"
      ],
      "outputs": [],
      "execution_count": 43,
      "metadata": {
        "collapsed": true
      }
    },
    {
      "cell_type": "code",
      "source": [
        "for l in range(0, len(sentences)):\n",
        "    sentences[l] = sentences[l].split()"
      ],
      "outputs": [],
      "execution_count": 44,
      "metadata": {
        "collapsed": true
      }
    },
    {
      "cell_type": "code",
      "source": [
        "sentences[0]"
      ],
      "outputs": [
        {
          "output_type": "execute_result",
          "execution_count": 45,
          "data": {
            "text/plain": [
              "['eugenia',\n",
              " 'alessandro',\n",
              " 'incredibly',\n",
              " 'warm',\n",
              " 'welcoming',\n",
              " 'space',\n",
              " 'impeccable',\n",
              " 'great',\n",
              " 'quality',\n",
              " 'price',\n",
              " 'ratio',\n",
              " 'beautiful',\n",
              " 'scenic',\n",
              " 'neighborhood',\n",
              " 'easy',\n",
              " 'parking',\n",
              " 'would',\n",
              " 'highly',\n",
              " 'recommend']"
            ]
          },
          "metadata": {}
        }
      ],
      "execution_count": 45,
      "metadata": {}
    },
    {
      "cell_type": "markdown",
      "source": [
        "**create train/test split**"
      ],
      "metadata": {}
    },
    {
      "cell_type": "code",
      "source": [
        "df = df[['comments', 'review_scores_rating']]\n",
        "\n",
        "df = df.dropna(axis=0, how='any')\n",
        "\ndf.head()"
      ],
      "outputs": [
        {
          "output_type": "execute_result",
          "execution_count": 46,
          "data": {
            "text/plain": [
              "                                            comments  review_scores_rating\n",
              "0  eugenia alessandro incredibly warm welcoming s...                  95.0\n",
              "1  great staying eugenia alessandro beautiful lov...                  95.0\n",
              "2  great place fantastic location host helpful re...                  95.0\n",
              "3  place great comfortable pleasant quiet neighbo...                  95.0\n",
              "4  eugenia alessandro welcoming u basement basica...                  95.0"
            ],
            "text/html": [
              "<div>\n",
              "<style>\n",
              "    .dataframe thead tr:only-child th {\n",
              "        text-align: right;\n",
              "    }\n",
              "\n",
              "    .dataframe thead th {\n",
              "        text-align: left;\n",
              "    }\n",
              "\n",
              "    .dataframe tbody tr th {\n",
              "        vertical-align: top;\n",
              "    }\n",
              "</style>\n",
              "<table border=\"1\" class=\"dataframe\">\n",
              "  <thead>\n",
              "    <tr style=\"text-align: right;\">\n",
              "      <th></th>\n",
              "      <th>comments</th>\n",
              "      <th>review_scores_rating</th>\n",
              "    </tr>\n",
              "  </thead>\n",
              "  <tbody>\n",
              "    <tr>\n",
              "      <th>0</th>\n",
              "      <td>eugenia alessandro incredibly warm welcoming s...</td>\n",
              "      <td>95.0</td>\n",
              "    </tr>\n",
              "    <tr>\n",
              "      <th>1</th>\n",
              "      <td>great staying eugenia alessandro beautiful lov...</td>\n",
              "      <td>95.0</td>\n",
              "    </tr>\n",
              "    <tr>\n",
              "      <th>2</th>\n",
              "      <td>great place fantastic location host helpful re...</td>\n",
              "      <td>95.0</td>\n",
              "    </tr>\n",
              "    <tr>\n",
              "      <th>3</th>\n",
              "      <td>place great comfortable pleasant quiet neighbo...</td>\n",
              "      <td>95.0</td>\n",
              "    </tr>\n",
              "    <tr>\n",
              "      <th>4</th>\n",
              "      <td>eugenia alessandro welcoming u basement basica...</td>\n",
              "      <td>95.0</td>\n",
              "    </tr>\n",
              "  </tbody>\n",
              "</table>\n",
              "</div>"
            ]
          },
          "metadata": {}
        }
      ],
      "execution_count": 46,
      "metadata": {}
    },
    {
      "cell_type": "code",
      "source": [
        "X = df['comments']\n",
        "y = df['review_scores_rating']"
      ],
      "outputs": [],
      "execution_count": 151,
      "metadata": {
        "collapsed": true
      }
    },
    {
      "cell_type": "code",
      "source": [
        "X_train, X_test, y_train, y_test = train_test_split(X, y, test_size=0.2)\n",
        "len(X_train), len(X_test), len(y_train), len(y_test)"
      ],
      "outputs": [
        {
          "output_type": "execute_result",
          "execution_count": 152,
          "data": {
            "text/plain": [
              "(186122, 46531, 186122, 46531)"
            ]
          },
          "metadata": {}
        }
      ],
      "execution_count": 152,
      "metadata": {}
    },
    {
      "cell_type": "markdown",
      "source": [
        "## Create word vectors"
      ],
      "metadata": {}
    },
    {
      "cell_type": "code",
      "source": [
        "# Configure the logging module so that Word2Vec creates nice output messages\n",
        "\n",
        "logging.basicConfig(format='%(asctime)s : %(levelname)s : %(message)s',\\\n",
        "    level=logging.INFO)"
      ],
      "outputs": [],
      "execution_count": 49,
      "metadata": {
        "collapsed": true
      }
    },
    {
      "cell_type": "code",
      "source": [
        "# Set values for various parameters\n",
        "num_features = 50    # Word vector dimensionality                      \n",
        "min_word_count = 40   # Minimum word count                        \n",
        "num_workers = 4       # Number of threads to run in parallel\n",
        "context = 20          # Context window size                                                                                    \n",
        "downsampling = 1e-3   # Downsample setting for frequent words"
      ],
      "outputs": [],
      "execution_count": 50,
      "metadata": {
        "collapsed": true
      }
    },
    {
      "cell_type": "code",
      "source": [
        "# Initialize and train the model (this will take some time)\n",
        "print(\"Training model...\")\n",
        "model = word2vec.Word2Vec(sentences, workers=num_workers, \\\n",
        "            size=num_features, min_count = min_word_count, \\\n",
        "            window = context, sample = downsampling)\n"
      ],
      "outputs": [
        {
          "output_type": "stream",
          "name": "stderr",
          "text": [
            "2018-01-02 07:39:09,914 : WARNING : consider setting layer size to a multiple of 4 for greater performance\n",
            "2018-01-02 07:39:09,917 : INFO : collecting all words and their counts\n",
            "2018-01-02 07:39:09,918 : INFO : PROGRESS: at sentence #0, processed 0 words, keeping 0 word types\n",
            "2018-01-02 07:39:10,008 : INFO : PROGRESS: at sentence #10000, processed 328041 words, keeping 9507 word types\n",
            "2018-01-02 07:39:10,090 : INFO : PROGRESS: at sentence #20000, processed 656099 words, keeping 13095 word types\n",
            "2018-01-02 07:39:10,141 : INFO : PROGRESS: at sentence #30000, processed 931299 words, keeping 15698 word types\n",
            "2018-01-02 07:39:10,200 : INFO : PROGRESS: at sentence #40000, processed 1250781 words, keeping 17779 word types\n",
            "2018-01-02 07:39:10,268 : INFO : PROGRESS: at sentence #50000, processed 1579096 words, keeping 19978 word types\n",
            "2018-01-02 07:39:10,336 : INFO : PROGRESS: at sentence #60000, processed 1897919 words, keeping 21862 word types\n",
            "2018-01-02 07:39:10,399 : INFO : PROGRESS: at sentence #70000, processed 2183835 words, keeping 23562 word types\n",
            "2018-01-02 07:39:10,455 : INFO : PROGRESS: at sentence #80000, processed 2484290 words, keeping 24983 word types\n",
            "2018-01-02 07:39:10,515 : INFO : PROGRESS: at sentence #90000, processed 2793623 words, keeping 26427 word types\n",
            "2018-01-02 07:39:10,580 : INFO : PROGRESS: at sentence #100000, processed 3107802 words, keeping 27869 word types\n",
            "2018-01-02 07:39:10,634 : INFO : PROGRESS: at sentence #110000, processed 3424578 words, keeping 29102 word types\n",
            "2018-01-02 07:39:10,696 : INFO : PROGRESS: at sentence #120000, processed 3743272 words, keeping 30538 word types\n",
            "2018-01-02 07:39:10,751 : INFO : PROGRESS: at sentence #130000, processed 4029777 words, keeping 31826 word types\n",
            "2018-01-02 07:39:10,808 : INFO : PROGRESS: at sentence #140000, processed 4318462 words, keeping 32902 word types\n",
            "2018-01-02 07:39:10,866 : INFO : PROGRESS: at sentence #150000, processed 4616603 words, keeping 33913 word types\n",
            "2018-01-02 07:39:10,927 : INFO : PROGRESS: at sentence #160000, processed 4926475 words, keeping 34858 word types\n",
            "2018-01-02 07:39:10,993 : INFO : PROGRESS: at sentence #170000, processed 5246258 words, keeping 35906 word types\n",
            "2018-01-02 07:39:11,050 : INFO : PROGRESS: at sentence #180000, processed 5585198 words, keeping 37030 word types\n",
            "2018-01-02 07:39:11,121 : INFO : PROGRESS: at sentence #190000, processed 5923363 words, keeping 38291 word types\n",
            "2018-01-02 07:39:11,184 : INFO : PROGRESS: at sentence #200000, processed 6223176 words, keeping 39348 word types\n",
            "2018-01-02 07:39:11,249 : INFO : PROGRESS: at sentence #210000, processed 6524078 words, keeping 40245 word types\n",
            "2018-01-02 07:39:11,321 : INFO : PROGRESS: at sentence #220000, processed 6845998 words, keeping 41309 word types\n",
            "2018-01-02 07:39:11,399 : INFO : PROGRESS: at sentence #230000, processed 7160847 words, keeping 42244 word types\n",
            "2018-01-02 07:39:11,421 : INFO : collected 42444 word types from a corpus of 7244641 raw words and 232653 sentences\n",
            "2018-01-02 07:39:11,423 : INFO : Loading a fresh vocabulary\n",
            "2018-01-02 07:39:11,455 : INFO : min_count=40 retains 5667 unique words (13% of original 42444, drops 36777)\n",
            "2018-01-02 07:39:11,456 : INFO : min_count=40 leaves 7083038 word corpus (97% of original 7244641, drops 161603)\n",
            "2018-01-02 07:39:11,474 : INFO : deleting the raw counts dictionary of 42444 items\n",
            "2018-01-02 07:39:11,476 : INFO : sample=0.001 downsamples 74 most-common words\n",
            "2018-01-02 07:39:11,478 : INFO : downsampling leaves estimated 5898013 word corpus (83.3% of prior 7083038)\n",
            "2018-01-02 07:39:11,479 : INFO : estimated required memory for 5667 words and 50 dimensions: 5100300 bytes\n",
            "2018-01-02 07:39:11,507 : INFO : resetting layer weights\n",
            "2018-01-02 07:39:11,572 : INFO : training model with 4 workers on 5667 vocabulary and 50 features, using sg=0 hs=0 sample=0.001 negative=5 window=20\n",
            "2018-01-02 07:39:12,585 : INFO : PROGRESS: at 3.63% examples, 1072385 words/s, in_qsize 7, out_qsize 0\n",
            "2018-01-02 07:39:13,591 : INFO : PROGRESS: at 7.73% examples, 1130740 words/s, in_qsize 7, out_qsize 0\n",
            "2018-01-02 07:39:14,594 : INFO : PROGRESS: at 11.66% examples, 1133189 words/s, in_qsize 7, out_qsize 0\n",
            "2018-01-02 07:39:15,595 : INFO : PROGRESS: at 15.29% examples, 1117805 words/s, in_qsize 7, out_qsize 0\n",
            "2018-01-02 07:39:16,603 : INFO : PROGRESS: at 19.02% examples, 1115106 words/s, in_qsize 8, out_qsize 0\n",
            "2018-01-02 07:39:17,606 : INFO : PROGRESS: at 23.01% examples, 1125850 words/s, in_qsize 7, out_qsize 0\n",
            "2018-01-02 07:39:18,609 : INFO : PROGRESS: at 27.12% examples, 1136796 words/s, in_qsize 7, out_qsize 0\n",
            "2018-01-02 07:39:19,610 : INFO : PROGRESS: at 31.34% examples, 1148519 words/s, in_qsize 7, out_qsize 0\n",
            "2018-01-02 07:39:20,631 : INFO : PROGRESS: at 34.78% examples, 1129271 words/s, in_qsize 7, out_qsize 0\n",
            "2018-01-02 07:39:21,631 : INFO : PROGRESS: at 38.68% examples, 1134130 words/s, in_qsize 7, out_qsize 0\n",
            "2018-01-02 07:39:22,637 : INFO : PROGRESS: at 42.10% examples, 1123521 words/s, in_qsize 7, out_qsize 0\n",
            "2018-01-02 07:39:23,641 : INFO : PROGRESS: at 46.44% examples, 1135165 words/s, in_qsize 7, out_qsize 0\n",
            "2018-01-02 07:39:24,649 : INFO : PROGRESS: at 50.10% examples, 1130802 words/s, in_qsize 7, out_qsize 0\n",
            "2018-01-02 07:39:25,651 : INFO : PROGRESS: at 54.28% examples, 1134369 words/s, in_qsize 7, out_qsize 0\n",
            "2018-01-02 07:39:26,655 : INFO : PROGRESS: at 57.97% examples, 1133230 words/s, in_qsize 7, out_qsize 0\n",
            "2018-01-02 07:39:27,660 : INFO : PROGRESS: at 61.60% examples, 1131105 words/s, in_qsize 7, out_qsize 0\n",
            "2018-01-02 07:39:28,661 : INFO : PROGRESS: at 65.26% examples, 1128210 words/s, in_qsize 7, out_qsize 0\n",
            "2018-01-02 07:39:29,666 : INFO : PROGRESS: at 69.27% examples, 1129196 words/s, in_qsize 7, out_qsize 0\n",
            "2018-01-02 07:39:30,666 : INFO : PROGRESS: at 73.12% examples, 1127381 words/s, in_qsize 7, out_qsize 0\n",
            "2018-01-02 07:39:31,667 : INFO : PROGRESS: at 76.43% examples, 1122197 words/s, in_qsize 7, out_qsize 0\n",
            "2018-01-02 07:39:32,674 : INFO : PROGRESS: at 80.11% examples, 1120108 words/s, in_qsize 7, out_qsize 0\n",
            "2018-01-02 07:39:33,680 : INFO : PROGRESS: at 83.80% examples, 1118443 words/s, in_qsize 7, out_qsize 0\n",
            "2018-01-02 07:39:34,690 : INFO : PROGRESS: at 87.62% examples, 1117805 words/s, in_qsize 7, out_qsize 0\n",
            "2018-01-02 07:39:35,695 : INFO : PROGRESS: at 92.09% examples, 1124590 words/s, in_qsize 7, out_qsize 0\n",
            "2018-01-02 07:39:36,696 : INFO : PROGRESS: at 95.69% examples, 1123173 words/s, in_qsize 7, out_qsize 0\n",
            "2018-01-02 07:39:37,705 : INFO : PROGRESS: at 99.43% examples, 1122010 words/s, in_qsize 7, out_qsize 0\n",
            "2018-01-02 07:39:37,845 : INFO : worker thread finished; awaiting finish of 3 more threads\n",
            "2018-01-02 07:39:37,853 : INFO : worker thread finished; awaiting finish of 2 more threads\n",
            "2018-01-02 07:39:37,855 : INFO : worker thread finished; awaiting finish of 1 more threads\n",
            "2018-01-02 07:39:37,859 : INFO : worker thread finished; awaiting finish of 0 more threads\n",
            "2018-01-02 07:39:37,860 : INFO : training on 36223205 raw words (29489425 effective words) took 26.3s, 1122004 effective words/s\n"
          ]
        },
        {
          "output_type": "stream",
          "name": "stdout",
          "text": [
            "Training model...\n"
          ]
        }
      ],
      "execution_count": 51,
      "metadata": {}
    },
    {
      "cell_type": "code",
      "source": [
        "# If you don't plan to train the model any further, calling \n",
        "# init_sims will make the model much more memory-efficient.\n",
        "model.init_sims(replace=True)"
      ],
      "outputs": [
        {
          "output_type": "stream",
          "name": "stderr",
          "text": [
            "2018-01-02 07:39:48,374 : INFO : precomputing L2-norms of word weight vectors\n"
          ]
        }
      ],
      "execution_count": 52,
      "metadata": {}
    },
    {
      "cell_type": "markdown",
      "source": [
        "**Now that the model is trained we can test it out**"
      ],
      "metadata": {}
    },
    {
      "cell_type": "code",
      "source": [
        "print('The model has a vocabulary of', model.wv.syn0.shape[0],'words')"
      ],
      "outputs": [
        {
          "output_type": "stream",
          "name": "stdout",
          "text": [
            "The model has a vocabulary of 5667 words\n"
          ]
        }
      ],
      "execution_count": 53,
      "metadata": {}
    },
    {
      "cell_type": "code",
      "source": [
        "(model[\"guest\"])"
      ],
      "outputs": [
        {
          "output_type": "execute_result",
          "execution_count": 109,
          "data": {
            "text/plain": [
              "array([ 0.18460426, -0.05469021, -0.17595169, -0.24518524, -0.05278677,\n",
              "       -0.03801234,  0.02173526, -0.09671655, -0.08303154,  0.02132847,\n",
              "       -0.10080424, -0.03698028, -0.13247897, -0.03020025,  0.24013272,\n",
              "        0.07796572, -0.19652875,  0.05560591,  0.02532151,  0.20867431,\n",
              "       -0.14583357, -0.13906603, -0.19833033,  0.21320339,  0.22925778,\n",
              "       -0.16669326, -0.1234057 ,  0.21458164,  0.13256392,  0.00463941,\n",
              "        0.16893825, -0.29187137, -0.124005  , -0.09430454, -0.09248599,\n",
              "        0.03063139,  0.01324844, -0.18619825,  0.00859407, -0.26272884,\n",
              "        0.10283627, -0.08677934, -0.12431945, -0.0389857 ,  0.25183278,\n",
              "        0.14710218, -0.01742067, -0.05386596, -0.08856376, -0.05978923], dtype=float32)"
            ]
          },
          "metadata": {}
        }
      ],
      "execution_count": 109,
      "metadata": {}
    },
    {
      "cell_type": "code",
      "source": [
        "(model[\"guest\"]).shape"
      ],
      "outputs": [
        {
          "output_type": "execute_result",
          "execution_count": 110,
          "data": {
            "text/plain": [
              "(50,)"
            ]
          },
          "metadata": {}
        }
      ],
      "execution_count": 110,
      "metadata": {
        "collapsed": false,
        "outputHidden": false,
        "inputHidden": false
      }
    },
    {
      "cell_type": "markdown",
      "source": [
        "Each word is represented by a 1x50 numpy array "
      ],
      "metadata": {}
    },
    {
      "cell_type": "markdown",
      "source": [
        "Let's see if the word vectors make sense by examining similar words"
      ],
      "metadata": {}
    },
    {
      "cell_type": "code",
      "source": [
        "model.most_similar(\"host\")"
      ],
      "outputs": [
        {
          "output_type": "execute_result",
          "execution_count": 55,
          "data": {
            "text/plain": [
              "[('hostess', 0.7447920441627502),\n",
              " ('communicator', 0.6245947480201721),\n",
              " ('extremely', 0.6012884378433228),\n",
              " ('nina', 0.5771051645278931),\n",
              " ('carlos', 0.5199190974235535),\n",
              " ('juan', 0.5196049213409424),\n",
              " ('michel', 0.5085746645927429),\n",
              " ('robert', 0.4986230731010437),\n",
              " ('location', 0.49570387601852417),\n",
              " ('incredibly', 0.4899801015853882)]"
            ]
          },
          "metadata": {}
        }
      ],
      "execution_count": 55,
      "metadata": {}
    },
    {
      "cell_type": "code",
      "source": [
        "model.most_similar(\"clean\")"
      ],
      "outputs": [
        {
          "output_type": "execute_result",
          "execution_count": 56,
          "data": {
            "text/plain": [
              "[('spacious', 0.7565823197364807),\n",
              " ('neat', 0.7011836767196655),\n",
              " ('tidy', 0.6939375996589661),\n",
              " ('roomy', 0.6611204147338867),\n",
              " ('modern', 0.65269535779953),\n",
              " ('functional', 0.61244136095047),\n",
              " ('bed', 0.5866390466690063),\n",
              " ('cozy', 0.5742331147193909),\n",
              " ('sized', 0.5714325308799744),\n",
              " ('large', 0.5697606205940247)]"
            ]
          },
          "metadata": {}
        }
      ],
      "execution_count": 56,
      "metadata": {}
    },
    {
      "cell_type": "code",
      "source": [
        "model.most_similar(\"dirty\")"
      ],
      "outputs": [
        {
          "output_type": "execute_result",
          "execution_count": 57,
          "data": {
            "text/plain": [
              "[('stain', 0.8899655342102051),\n",
              " ('dusty', 0.88738614320755),\n",
              " ('dust', 0.8773132562637329),\n",
              " ('disgusting', 0.8761452436447144),\n",
              " ('filthy', 0.8749378323554993),\n",
              " ('carpet', 0.854412853717804),\n",
              " ('dirt', 0.850810170173645),\n",
              " ('mold', 0.8504944443702698),\n",
              " ('cleaned', 0.8459546566009521),\n",
              " ('cleaner', 0.8441740274429321)]"
            ]
          },
          "metadata": {}
        }
      ],
      "execution_count": 57,
      "metadata": {}
    },
    {
      "cell_type": "code",
      "source": [
        "model.doesnt_match(\"breakfast cereal dinner lunch\".split())"
      ],
      "outputs": [
        {
          "output_type": "execute_result",
          "execution_count": 58,
          "data": {
            "text/plain": [
              "'cereal'"
            ]
          },
          "metadata": {}
        }
      ],
      "execution_count": 58,
      "metadata": {}
    },
    {
      "cell_type": "code",
      "source": [
        "model.doesnt_match(\"clean lovely bright filthy\".split())"
      ],
      "outputs": [
        {
          "output_type": "execute_result",
          "execution_count": 153,
          "data": {
            "text/plain": [
              "'filthy'"
            ]
          },
          "metadata": {}
        }
      ],
      "execution_count": 153,
      "metadata": {}
    },
    {
      "cell_type": "markdown",
      "source": [
        "So far, it seems that the model has learned word embeddings, and is able to find similar or mismatching words appropriately. "
      ],
      "metadata": {}
    },
    {
      "cell_type": "markdown",
      "source": [
        "**Word clustering**"
      ],
      "metadata": {}
    },
    {
      "cell_type": "code",
      "source": [
        "# Set \"k\" (num_clusters) to be 1/5th of the vocabulary size, or an\n",
        "# average of 5 words per cluster\n",
        "word_vectors = model.wv.syn0\n",
        "num_clusters = word_vectors.shape[0] / 5\n",
        "num_clusters = math.floor(num_clusters)"
      ],
      "outputs": [],
      "execution_count": 60,
      "metadata": {
        "collapsed": true
      }
    },
    {
      "cell_type": "code",
      "source": [
        "word_vectors.shape[0]"
      ],
      "outputs": [
        {
          "output_type": "execute_result",
          "execution_count": 61,
          "data": {
            "text/plain": [
              "5667"
            ]
          },
          "metadata": {}
        }
      ],
      "execution_count": 61,
      "metadata": {}
    },
    {
      "cell_type": "code",
      "source": [
        "num_clusters"
      ],
      "outputs": [
        {
          "output_type": "execute_result",
          "execution_count": 62,
          "data": {
            "text/plain": [
              "1133"
            ]
          },
          "metadata": {}
        }
      ],
      "execution_count": 62,
      "metadata": {}
    },
    {
      "cell_type": "code",
      "source": [
        "# Initalize a k-means object and use it to extract centroids\n",
        "kmeans_clustering = KMeans(n_clusters = num_clusters)\n",
        "idx = kmeans_clustering.fit_predict(word_vectors)"
      ],
      "outputs": [],
      "execution_count": 63,
      "metadata": {
        "collapsed": true
      }
    },
    {
      "cell_type": "code",
      "source": [
        "# Create a Word / Index dictionary, mapping each vocabulary word to\n",
        "# a cluster number                                                                                            \n",
        "word_centroid_map = dict(zip(model.wv.index2word, idx))"
      ],
      "outputs": [],
      "execution_count": 64,
      "metadata": {
        "collapsed": true
      }
    },
    {
      "cell_type": "code",
      "source": [
        "ls = list(word_centroid_map.values())\n",
        "lk = list(word_centroid_map.keys())"
      ],
      "outputs": [],
      "execution_count": 65,
      "metadata": {
        "collapsed": true
      }
    },
    {
      "cell_type": "code",
      "source": [
        "# For the first 10 clusters\n",
        "for cluster in range(0,10):\n",
        "    \n",
        "    # Print the cluster number  \n",
        "    print(\"\\nCluster %d\" % cluster)\n",
        "\n",
        "    # Find all of the words for that cluster number, and print them out\n",
        "    words = []\n",
        "    for i in range(0,len(word_centroid_map.values())):\n",
        "        if(ls[i] == cluster ):\n",
        "            words.append(lk[i])\n",
        "    print(words)"
      ],
      "outputs": [
        {
          "output_type": "stream",
          "name": "stdout",
          "text": [
            "\n",
            "Cluster 0\n",
            "['thoughtful', 'stocking']\n",
            "\n",
            "Cluster 1\n",
            "['lol', 'haha', 'gotta', 'sweat', 'ya']\n",
            "\n",
            "Cluster 2\n",
            "['touched', 'overwhelmed']\n",
            "\n",
            "Cluster 3\n",
            "['missing', 'properly', 'improvement', 'replaced', 'repair', 'fixing', 'adjust', 'sticky', 'threw', 'housekeeping', 'replace', 'replacement']\n",
            "\n",
            "Cluster 4\n",
            "['girl', 'purpose', 'school', 'college', 'student']\n",
            "\n",
            "Cluster 5\n",
            "['rose', 'joshua', 'felicia', 'gigi', 'ginger', 'kesinee', 'harvey', 'kp', 'm']\n",
            "\n",
            "Cluster 6\n",
            "['restaurant', 'food', 'eat', 'eatery', 'eats', 'resturants', 'restuarants']\n",
            "\n",
            "Cluster 7\n",
            "['district', 'inner', 'outer']\n",
            "\n",
            "Cluster 8\n",
            "['angie', 'silvia', 'constance', 'olga', 'freddi', 'gianmatteo', 'isabelle', 'uschi']\n",
            "\n",
            "Cluster 9\n",
            "['appear']\n"
          ]
        }
      ],
      "execution_count": 66,
      "metadata": {}
    },
    {
      "cell_type": "markdown",
      "source": [
        "**We can see that the model can cluster different themes**"
      ],
      "metadata": {}
    },
    {
      "cell_type": "code",
      "source": [
        "def create_bag_of_centroids(wordlist, word_centroid_map ):\n",
        "    \n",
        "    # The number of clusters is equal to the highest cluster index\n",
        "    # in the word / centroid map\n",
        "    num_centroids = max( word_centroid_map.values() ) + 1\n",
        "    \n",
        "    # Pre-allocate the bag of centroids vector (for speed)\n",
        "    bag_of_centroids = np.zeros( num_centroids, dtype=\"float32\" )\n",
        "    \n",
        "    # Loop over the words in the review. If the word is in the vocabulary,\n",
        "    # find which cluster it belongs to, and increment that cluster count by one\n",
        "    for word in wordlist:\n",
        "        if word in word_centroid_map:\n",
        "            index = word_centroid_map[word]\n",
        "            bag_of_centroids[index] += 1\n",
        "    \n",
        "    # Return the \"bag of centroids\"\n",
        "    return bag_of_centroids"
      ],
      "outputs": [],
      "execution_count": 67,
      "metadata": {
        "collapsed": true
      }
    },
    {
      "cell_type": "code",
      "source": [
        "# Pre-allocate an array for the training set bags of centroids (for speed)\n",
        "train_centroids = np.zeros( (len(X_train), num_clusters), dtype=\"float32\" )\n",
        "\n",
        "# Transform the training set reviews into bags of centroids\n",
        "counter = 0\n",
        "for review in X_train:\n",
        "    train_centroids[counter] = create_bag_of_centroids( review, word_centroid_map )\n",
        "    counter += 1\n",
        "\n",
        "# Repeat for test reviews \n",
        "test_centroids = np.zeros((len(X_test), num_clusters), dtype=\"float32\")\n",
        "\n",
        "counter = 0\n",
        "for review in X_test:\n",
        "    test_centroids[counter] = create_bag_of_centroids(review, word_centroid_map)\n",
        "    counter += 1\n"
      ],
      "outputs": [],
      "execution_count": 68,
      "metadata": {
        "collapsed": true
      }
    },
    {
      "cell_type": "markdown",
      "source": [
        "**Let's consider a rating score above 96 (the median score) positive, and under 96 will be negative**"
      ],
      "metadata": {
        "collapsed": true
      }
    },
    {
      "cell_type": "code",
      "source": [
        "y_test[y_test < 96] = 0\n",
        "y_test[y_test >= 96] = 1"
      ],
      "outputs": [],
      "execution_count": 154,
      "metadata": {
        "collapsed": true
      }
    },
    {
      "cell_type": "code",
      "source": [
        "y_train[y_train < 96] = 0\n",
        "y_train[y_train >= 96] = 1"
      ],
      "outputs": [],
      "execution_count": 155,
      "metadata": {
        "collapsed": true
      }
    },
    {
      "cell_type": "markdown",
      "source": [
        "## Making predictions\n"
      ],
      "metadata": {}
    },
    {
      "cell_type": "markdown",
      "source": [
        "**Gradient boosted trees** "
      ],
      "metadata": {
        "collapsed": false,
        "outputHidden": false,
        "inputHidden": false
      }
    },
    {
      "cell_type": "code",
      "source": [
        "model_gb2 = GradientBoostingClassifier(n_estimators=200, max_features=None, max_depth=10)\n",
        "model_gb2.fit(train_centroids, y_train)"
      ],
      "outputs": [
        {
          "output_type": "execute_result",
          "execution_count": 156,
          "data": {
            "text/plain": [
              "GradientBoostingClassifier(criterion='friedman_mse', init=None,\n",
              "              learning_rate=0.1, loss='deviance', max_depth=10,\n",
              "              max_features=None, max_leaf_nodes=None,\n",
              "              min_impurity_decrease=0.0, min_impurity_split=None,\n",
              "              min_samples_leaf=1, min_samples_split=2,\n",
              "              min_weight_fraction_leaf=0.0, n_estimators=200,\n",
              "              presort='auto', random_state=None, subsample=1.0, verbose=0,\n",
              "              warm_start=False)"
            ]
          },
          "metadata": {}
        }
      ],
      "execution_count": 156,
      "metadata": {}
    },
    {
      "cell_type": "code",
      "source": [
        "gb2_pred = model_gb2.predict(test_centroids)"
      ],
      "outputs": [],
      "execution_count": 157,
      "metadata": {
        "collapsed": true
      }
    },
    {
      "cell_type": "code",
      "source": [
        "np.mean(gb2_pred), np.mean(y_test)"
      ],
      "outputs": [
        {
          "output_type": "execute_result",
          "execution_count": 158,
          "data": {
            "text/plain": [
              "(0.93269003460058886, 0.5936902280200297)"
            ]
          },
          "metadata": {}
        }
      ],
      "execution_count": 158,
      "metadata": {}
    },
    {
      "cell_type": "code",
      "source": [
        "print('precision_score: %.2f' % precision_score(y_test, gb2_pred))\n",
        "print('accuracy_score: %.2f' % accuracy_score(y_test, gb2_pred))\n",
        "print('f1_score: %.2f' % f1_score(y_test, gb2_pred))"
      ],
      "outputs": [
        {
          "output_type": "stream",
          "name": "stdout",
          "text": [
            "precision_score: 0.59\n",
            "accuracy_score: 0.58\n",
            "f1_score: 0.73\n"
          ]
        }
      ],
      "execution_count": 159,
      "metadata": {}
    },
    {
      "cell_type": "markdown",
      "source": [
        "\n\n**Random Forests**"
      ],
      "metadata": {
        "collapsed": true
      }
    },
    {
      "cell_type": "code",
      "source": [
        "model_rf9 = RandomForestClassifier(n_estimators=150, max_features=None, max_depth=10)\n",
        "model_rf9.fit(train_centroids, y_train)"
      ],
      "outputs": [
        {
          "output_type": "execute_result",
          "execution_count": 89,
          "data": {
            "text/plain": [
              "RandomForestClassifier(bootstrap=True, class_weight=None, criterion='gini',\n",
              "            max_depth=10, max_features=None, max_leaf_nodes=None,\n",
              "            min_impurity_decrease=0.0, min_impurity_split=None,\n",
              "            min_samples_leaf=1, min_samples_split=2,\n",
              "            min_weight_fraction_leaf=0.0, n_estimators=150, n_jobs=1,\n",
              "            oob_score=False, random_state=None, verbose=0,\n",
              "            warm_start=False)"
            ]
          },
          "metadata": {}
        }
      ],
      "execution_count": 89,
      "metadata": {}
    },
    {
      "cell_type": "code",
      "source": [
        "rf9_pred = model_rf9.predict(test_centroids)"
      ],
      "outputs": [],
      "execution_count": 90,
      "metadata": {
        "collapsed": true
      }
    },
    {
      "cell_type": "code",
      "source": [
        "print('precision_score: %.2f' % precision_score(y_test, rf9_pred))\n",
        "print('accuracy_score: %.2f' % accuracy_score(y_test, rf9_pred))\n",
        "print('f1_score: %.2f' % f1_score(y_test, rf9_pred))"
      ],
      "outputs": [
        {
          "output_type": "stream",
          "name": "stdout",
          "text": [
            "precision_score: 0.70\n",
            "accuracy_score: 0.70\n",
            "f1_score: 0.82\n"
          ]
        }
      ],
      "execution_count": 92,
      "metadata": {}
    },
    {
      "cell_type": "markdown",
      "source": [
        "## Summary and Conclusions\n"
      ],
      "metadata": {}
    },
    {
      "cell_type": "markdown",
      "source": [
        "In this analysis, we've cleaned and analyzed Airbnb reviews in order to predict future guest experience.  \n",
        "We've used word vectors and a clustering approach to create clusters of semantically related words.\n",
        "We then used random forests and boosted trees to classify each review as positive or negative based off of a listings ratings (supervised learning).\n",
        "\n",
        "Based on mediocore f1 score results from these two approaches, we can conclude that perhaps more features besides the reviews should be employed to predict ratings. After all, guests' reports are public, and perhaps don't accurately represent the numerical ratings they provided after their experience. \n",
        "\nFurthermore, more advanced deep learning approaches, such as recurrent neural networks, which perserve word order can be employed to extract further meaning from each review. Finally, a larger dataset could be examined, as this set contained only approximately 5000 listings. "
      ],
      "metadata": {}
    }
  ],
  "metadata": {
    "kernel_info": {
      "name": "python3"
    },
    "kernelspec": {
      "name": "python3",
      "language": "python",
      "display_name": "Python 3"
    },
    "language_info": {
      "name": "python",
      "version": "3.6.1",
      "mimetype": "text/x-python",
      "codemirror_mode": {
        "name": "ipython",
        "version": 3
      },
      "pygments_lexer": "ipython3",
      "nbconvert_exporter": "python",
      "file_extension": ".py"
    },
    "nteract": {
      "version": "0.5.4"
    }
  },
  "nbformat": 4,
  "nbformat_minor": 4
}